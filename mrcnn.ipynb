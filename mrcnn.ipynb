{
  "nbformat": 4,
  "nbformat_minor": 0,
  "metadata": {
    "colab": {
      "name": "custom_training.py",
      "provenance": [],
      "collapsed_sections": [],
      "include_colab_link": true
    },
    "kernelspec": {
      "name": "python3",
      "display_name": "Python 3"
    },
    "language_info": {
      "name": "python"
    },
    "accelerator": "GPU",
    "gpuClass": "standard"
  },
  "cells": [
    {
      "cell_type": "markdown",
      "metadata": {
        "id": "view-in-github",
        "colab_type": "text"
      },
      "source": [
        "<a href=\"https://colab.research.google.com/github/ajaynain-eng/Mask-RCNN/blob/main/mrcnn.ipynb\" target=\"_parent\"><img src=\"https://colab.research.google.com/assets/colab-badge.svg\" alt=\"Open In Colab\"/></a>"
      ]
    },
    {
      "cell_type": "code",
      "source": [
        "!pip uninstall keras -y\n",
        "!pip uninstall keras-nightly -y\n",
        "!pip uninstall keras-Preprocessing -y\n",
        "!pip uninstall keras-vis -y\n",
        "!pip uninstall tensorflow -y\n",
        "!pip uninstall h5py -y\n",
        "!pip uninstall scikit-image"
      ],
      "metadata": {
        "id": "Quc8gpf4muLG"
      },
      "execution_count": null,
      "outputs": []
    },
    {
      "cell_type": "code",
      "source": [
        "!pip install tensorflow-gpu==1.13.1\n",
        "!pip install keras==2.0.8\n",
        "!pip install h5py==2.10.0\n",
        "!pip install scikit-image==0.16.2"
      ],
      "metadata": {
        "id": "sxPWLStfwOnB"
      },
      "execution_count": null,
      "outputs": []
    },
    {
      "cell_type": "code",
      "source": [
        "from google.colab import drive\n",
        "drive.mount('/content/drive')"
      ],
      "metadata": {
        "colab": {
          "base_uri": "https://localhost:8080/"
        },
        "id": "wP8K5STTzPSD",
        "outputId": "8313a111-a432-425a-bc06-7f14a4f8b252"
      },
      "execution_count": 3,
      "outputs": [
        {
          "output_type": "stream",
          "name": "stdout",
          "text": [
            "Mounted at /content/drive\n"
          ]
        }
      ]
    },
    {
      "cell_type": "code",
      "source": [
        "import os\n",
        "os.environ['KAGGLE_CONFIG_DIR'] = '/content/drive/MyDrive'\n",
        "ROOT_DIR = \"/content/sample_data/Mask_RCNN\""
      ],
      "metadata": {
        "id": "Dk1YRzaEfvYE"
      },
      "execution_count": 4,
      "outputs": []
    },
    {
      "cell_type": "code",
      "source": [
        "# import shutil\n",
        "# shutil.rmtree(\"/content/sample_data/Mask_RCNN\")"
      ],
      "metadata": {
        "id": "6j3wC8q1S9kc"
      },
      "execution_count": 5,
      "outputs": []
    },
    {
      "cell_type": "code",
      "source": [
        "cd \"/content/sample_data\""
      ],
      "metadata": {
        "colab": {
          "base_uri": "https://localhost:8080/"
        },
        "id": "5fFQfp9X0ioI",
        "outputId": "ed7b2a9b-9398-4a7e-996c-552d15354a6b"
      },
      "execution_count": 7,
      "outputs": [
        {
          "output_type": "stream",
          "name": "stdout",
          "text": [
            "/content/sample_data\n"
          ]
        }
      ]
    },
    {
      "cell_type": "code",
      "source": [
        "try:\n",
        "    os.mkdir(\"/content/sample_data/Mask_RCNN\")\n",
        "except:\n",
        "    pass"
      ],
      "metadata": {
        "id": "fg_I1xE-0sO1"
      },
      "execution_count": 8,
      "outputs": []
    },
    {
      "cell_type": "code",
      "source": [
        "cd \"/content/sample_data/Mask_RCNN\""
      ],
      "metadata": {
        "colab": {
          "base_uri": "https://localhost:8080/"
        },
        "id": "Nuj_4eOJ2kE3",
        "outputId": "4358b17b-6cca-4c67-fda2-e723ac1d513c"
      },
      "execution_count": 9,
      "outputs": [
        {
          "output_type": "stream",
          "name": "stdout",
          "text": [
            "/content/sample_data/Mask_RCNN\n"
          ]
        }
      ]
    },
    {
      "cell_type": "code",
      "source": [
        "!kaggle competitions download -c uw-madison-gi-tract-image-segmentation"
      ],
      "metadata": {
        "colab": {
          "base_uri": "https://localhost:8080/"
        },
        "id": "EwUIE75cgWb8",
        "outputId": "57021bab-ec5a-4f7e-e430-b5446a8a5229"
      },
      "execution_count": 10,
      "outputs": [
        {
          "output_type": "stream",
          "name": "stdout",
          "text": [
            "Downloading uw-madison-gi-tract-image-segmentation.zip to /content/sample_data/Mask_RCNN\n",
            " 99% 2.28G/2.30G [01:02<00:00, 23.9MB/s]\n",
            "100% 2.30G/2.30G [01:02<00:00, 39.2MB/s]\n"
          ]
        }
      ]
    },
    {
      "cell_type": "code",
      "source": [
        "!unzip \\*.zip && rm *.zip "
      ],
      "metadata": {
        "id": "SrV5q3hAg72C"
      },
      "execution_count": null,
      "outputs": []
    },
    {
      "cell_type": "code",
      "source": [
        "try:\n",
        "    os.mkdir(\"mrcnn\")\n",
        "except:\n",
        "    pass"
      ],
      "metadata": {
        "id": "h9mC2dym2JHE"
      },
      "execution_count": 12,
      "outputs": []
    },
    {
      "cell_type": "code",
      "source": [
        "!git clone https://github.com/matterport/Mask_RCNN.git"
      ],
      "metadata": {
        "id": "Y-A0XarjWJRo",
        "colab": {
          "base_uri": "https://localhost:8080/"
        },
        "outputId": "9314c035-1a43-4d93-a16c-47b15483a1d8"
      },
      "execution_count": 13,
      "outputs": [
        {
          "output_type": "stream",
          "name": "stdout",
          "text": [
            "Cloning into 'Mask_RCNN'...\n",
            "remote: Enumerating objects: 956, done.\u001b[K\n",
            "remote: Total 956 (delta 0), reused 0 (delta 0), pack-reused 956\u001b[K\n",
            "Receiving objects: 100% (956/956), 125.23 MiB | 15.69 MiB/s, done.\n",
            "Resolving deltas: 100% (565/565), done.\n"
          ]
        }
      ]
    },
    {
      "cell_type": "code",
      "source": [
        "# import shutil\n",
        "# import os\n",
        "# subfolders = os.listdir(\"/content/sample_data/Mask_RCNN/logs\")\n",
        "# for subfolder in subfolders:\n",
        "#     try:\n",
        "#         os.mkdir(\"/content/drive/MyDrive/Kaggle/Mask RCNN/logs/\" + subfolder)\n",
        "#     except:\n",
        "#         pass\n",
        "#     files = os.listdir(\"/content/sample_data/Mask_RCNN/logs/\" + subfolder)\n",
        "#     print(files)\n",
        "#     for file in files:\n",
        "#         shutil.copy2(\"/content/sample_data/Mask_RCNN/logs/\"+subfolder+\"/\"+file, \"/content/drive/MyDrive/Kaggle/Mask RCNN/logs/\"+subfolder+\"/\"+file)"
      ],
      "metadata": {
        "id": "VV_21K0J4jcp"
      },
      "execution_count": 14,
      "outputs": []
    },
    {
      "cell_type": "code",
      "source": [
        "import shutil\n",
        "files = os.listdir(\"/content/sample_data/Mask_RCNN/Mask_RCNN/mrcnn\")\n",
        "# files = os.listdir(\"/content/drive/MyDrive/Kaggle/Mask RCNN/mrcnn\")\n",
        "for file in files:\n",
        "    shutil.copy2(\"/content/sample_data/Mask_RCNN/Mask_RCNN/mrcnn/\"+ file , ROOT_DIR+\"/mrcnn/\" + file)\n",
        "shutil.rmtree(\"/content/sample_data/Mask_RCNN/Mask_RCNN/\")"
      ],
      "metadata": {
        "id": "TTxHJ0j_1lo5"
      },
      "execution_count": 15,
      "outputs": []
    },
    {
      "cell_type": "code",
      "source": [
        "# ROOT_DIR = \"/content/drive/MyDrive/Kaggle/Mask RCNN\"\n",
        "coco_url = \"https://github.com/matterport/Mask_RCNN/releases/download/v2.0/mask_rcnn_coco.h5\"\n",
        "import requests\n",
        "response = requests.get(coco_url)\n",
        "with open(ROOT_DIR + \"/mask_rcnn_coco.h5\", \"wb\") as file:\n",
        "    file.write((response.content))"
      ],
      "metadata": {
        "id": "XN6JZ-3n5tJr"
      },
      "execution_count": 16,
      "outputs": []
    },
    {
      "cell_type": "code",
      "source": [
        "os.getcwd()"
      ],
      "metadata": {
        "colab": {
          "base_uri": "https://localhost:8080/",
          "height": 36
        },
        "id": "tjOe0AwWlC__",
        "outputId": "2da754cb-098c-4cb6-b3ec-5880bfc84474"
      },
      "execution_count": 17,
      "outputs": [
        {
          "output_type": "execute_result",
          "data": {
            "text/plain": [
              "'/content/sample_data/Mask_RCNN'"
            ],
            "application/vnd.google.colaboratory.intrinsic+json": {
              "type": "string"
            }
          },
          "metadata": {},
          "execution_count": 17
        }
      ]
    },
    {
      "cell_type": "code",
      "source": [
        "# os.rename(\"/content/sample_data/Mask_RCNN/mrcnn/model.py\", \"/content/sample_data/Mask_RCNN/mrcnn/model_temp.py\")\n",
        "# temp_file = open(\"/content/sample_data/Mask_RCNN/mrcnn/model.py\", \"w\")\n",
        "# i = 0\n",
        "# with open(\"/content/sample_data/Mask_RCNN/mrcnn/model_temp.py\", \"r\") as file:\n",
        "#     f = file.readlines()\n",
        "#     for i, line in enumerate(f):\n",
        "#         if i == 22:\n",
        "#             temp_file.write(\"import keras.engine.base_layer as KE\\n\")\n",
        "#         else:\n",
        "#             temp_file.write(line)\n",
        "# temp_file.close()"
      ],
      "metadata": {
        "id": "k7STRLLY9dXE"
      },
      "execution_count": 18,
      "outputs": []
    },
    {
      "cell_type": "code",
      "source": [
        "import pandas as pd\n",
        "import numpy as np\n",
        "import cv2\n",
        "from cv2 import resize\n",
        "import sys\n",
        "import json\n",
        "import datetime\n",
        "import skimage.draw\n",
        "import cv2\n",
        "from glob import glob\n",
        "import tensorflow as tf\n",
        "from tensorflow import keras\n",
        "from mrcnn import visualize\n",
        "from mrcnn.visualize import display_instances\n",
        "import matplotlib.pyplot as plt\n",
        "\n",
        "import skimage\n",
        "from skimage import io, img_as_float, img_as_ubyte\n",
        "from skimage.measure import label, regionprops, find_contours\n",
        "\n",
        "# Root directory of the project\n",
        "# ROOT_DIR = \"D:\\MaskRCNN\"\n",
        "# ROOT_DIR = \"/content/drive/MyDrive/Kaggle/Mask RCNN\"\n",
        "\n",
        "# Import Mask RCNN\n",
        "sys.path.append(ROOT_DIR)  # To find local version of the library  \n",
        "from mrcnn.config import Config\n",
        "from mrcnn import model as modellib, utils"
      ],
      "metadata": {
        "id": "pw1MOOPk7_Zm"
      },
      "execution_count": null,
      "outputs": []
    },
    {
      "cell_type": "code",
      "source": [
        "print(\"tensorflow: \",tf.__version__)\n",
        "print(\"keras: \", keras.__version__)"
      ],
      "metadata": {
        "colab": {
          "base_uri": "https://localhost:8080/"
        },
        "id": "v1sV8eZNB6j_",
        "outputId": "cb031ab9-00eb-4059-c3c0-cd16a1c10dba"
      },
      "execution_count": 20,
      "outputs": [
        {
          "output_type": "stream",
          "name": "stdout",
          "text": [
            "tensorflow:  1.13.1\n",
            "keras:  2.2.4-tf\n"
          ]
        }
      ]
    },
    {
      "cell_type": "code",
      "source": [
        "df = pd.read_csv(\"/content/sample_data/Mask_RCNN/train.csv\")\n",
        "sub_df = df.drop(columns=['class','segmentation']).drop_duplicates()\n",
        "df.head()"
      ],
      "metadata": {
        "colab": {
          "base_uri": "https://localhost:8080/",
          "height": 206
        },
        "id": "fzopINIY63F2",
        "outputId": "92a595c7-33f6-4ebf-ca59-7cbd001715c6"
      },
      "execution_count": 21,
      "outputs": [
        {
          "output_type": "execute_result",
          "data": {
            "text/plain": [
              "                         id        class segmentation\n",
              "0  case123_day20_slice_0001  large_bowel          NaN\n",
              "1  case123_day20_slice_0001  small_bowel          NaN\n",
              "2  case123_day20_slice_0001      stomach          NaN\n",
              "3  case123_day20_slice_0002  large_bowel          NaN\n",
              "4  case123_day20_slice_0002  small_bowel          NaN"
            ],
            "text/html": [
              "\n",
              "  <div id=\"df-11768ad9-a9a9-4f2f-aa8f-60dda37aeb9f\">\n",
              "    <div class=\"colab-df-container\">\n",
              "      <div>\n",
              "<style scoped>\n",
              "    .dataframe tbody tr th:only-of-type {\n",
              "        vertical-align: middle;\n",
              "    }\n",
              "\n",
              "    .dataframe tbody tr th {\n",
              "        vertical-align: top;\n",
              "    }\n",
              "\n",
              "    .dataframe thead th {\n",
              "        text-align: right;\n",
              "    }\n",
              "</style>\n",
              "<table border=\"1\" class=\"dataframe\">\n",
              "  <thead>\n",
              "    <tr style=\"text-align: right;\">\n",
              "      <th></th>\n",
              "      <th>id</th>\n",
              "      <th>class</th>\n",
              "      <th>segmentation</th>\n",
              "    </tr>\n",
              "  </thead>\n",
              "  <tbody>\n",
              "    <tr>\n",
              "      <th>0</th>\n",
              "      <td>case123_day20_slice_0001</td>\n",
              "      <td>large_bowel</td>\n",
              "      <td>NaN</td>\n",
              "    </tr>\n",
              "    <tr>\n",
              "      <th>1</th>\n",
              "      <td>case123_day20_slice_0001</td>\n",
              "      <td>small_bowel</td>\n",
              "      <td>NaN</td>\n",
              "    </tr>\n",
              "    <tr>\n",
              "      <th>2</th>\n",
              "      <td>case123_day20_slice_0001</td>\n",
              "      <td>stomach</td>\n",
              "      <td>NaN</td>\n",
              "    </tr>\n",
              "    <tr>\n",
              "      <th>3</th>\n",
              "      <td>case123_day20_slice_0002</td>\n",
              "      <td>large_bowel</td>\n",
              "      <td>NaN</td>\n",
              "    </tr>\n",
              "    <tr>\n",
              "      <th>4</th>\n",
              "      <td>case123_day20_slice_0002</td>\n",
              "      <td>small_bowel</td>\n",
              "      <td>NaN</td>\n",
              "    </tr>\n",
              "  </tbody>\n",
              "</table>\n",
              "</div>\n",
              "      <button class=\"colab-df-convert\" onclick=\"convertToInteractive('df-11768ad9-a9a9-4f2f-aa8f-60dda37aeb9f')\"\n",
              "              title=\"Convert this dataframe to an interactive table.\"\n",
              "              style=\"display:none;\">\n",
              "        \n",
              "  <svg xmlns=\"http://www.w3.org/2000/svg\" height=\"24px\"viewBox=\"0 0 24 24\"\n",
              "       width=\"24px\">\n",
              "    <path d=\"M0 0h24v24H0V0z\" fill=\"none\"/>\n",
              "    <path d=\"M18.56 5.44l.94 2.06.94-2.06 2.06-.94-2.06-.94-.94-2.06-.94 2.06-2.06.94zm-11 1L8.5 8.5l.94-2.06 2.06-.94-2.06-.94L8.5 2.5l-.94 2.06-2.06.94zm10 10l.94 2.06.94-2.06 2.06-.94-2.06-.94-.94-2.06-.94 2.06-2.06.94z\"/><path d=\"M17.41 7.96l-1.37-1.37c-.4-.4-.92-.59-1.43-.59-.52 0-1.04.2-1.43.59L10.3 9.45l-7.72 7.72c-.78.78-.78 2.05 0 2.83L4 21.41c.39.39.9.59 1.41.59.51 0 1.02-.2 1.41-.59l7.78-7.78 2.81-2.81c.8-.78.8-2.07 0-2.86zM5.41 20L4 18.59l7.72-7.72 1.47 1.35L5.41 20z\"/>\n",
              "  </svg>\n",
              "      </button>\n",
              "      \n",
              "  <style>\n",
              "    .colab-df-container {\n",
              "      display:flex;\n",
              "      flex-wrap:wrap;\n",
              "      gap: 12px;\n",
              "    }\n",
              "\n",
              "    .colab-df-convert {\n",
              "      background-color: #E8F0FE;\n",
              "      border: none;\n",
              "      border-radius: 50%;\n",
              "      cursor: pointer;\n",
              "      display: none;\n",
              "      fill: #1967D2;\n",
              "      height: 32px;\n",
              "      padding: 0 0 0 0;\n",
              "      width: 32px;\n",
              "    }\n",
              "\n",
              "    .colab-df-convert:hover {\n",
              "      background-color: #E2EBFA;\n",
              "      box-shadow: 0px 1px 2px rgba(60, 64, 67, 0.3), 0px 1px 3px 1px rgba(60, 64, 67, 0.15);\n",
              "      fill: #174EA6;\n",
              "    }\n",
              "\n",
              "    [theme=dark] .colab-df-convert {\n",
              "      background-color: #3B4455;\n",
              "      fill: #D2E3FC;\n",
              "    }\n",
              "\n",
              "    [theme=dark] .colab-df-convert:hover {\n",
              "      background-color: #434B5C;\n",
              "      box-shadow: 0px 1px 3px 1px rgba(0, 0, 0, 0.15);\n",
              "      filter: drop-shadow(0px 1px 2px rgba(0, 0, 0, 0.3));\n",
              "      fill: #FFFFFF;\n",
              "    }\n",
              "  </style>\n",
              "\n",
              "      <script>\n",
              "        const buttonEl =\n",
              "          document.querySelector('#df-11768ad9-a9a9-4f2f-aa8f-60dda37aeb9f button.colab-df-convert');\n",
              "        buttonEl.style.display =\n",
              "          google.colab.kernel.accessAllowed ? 'block' : 'none';\n",
              "\n",
              "        async function convertToInteractive(key) {\n",
              "          const element = document.querySelector('#df-11768ad9-a9a9-4f2f-aa8f-60dda37aeb9f');\n",
              "          const dataTable =\n",
              "            await google.colab.kernel.invokeFunction('convertToInteractive',\n",
              "                                                     [key], {});\n",
              "          if (!dataTable) return;\n",
              "\n",
              "          const docLinkHtml = 'Like what you see? Visit the ' +\n",
              "            '<a target=\"_blank\" href=https://colab.research.google.com/notebooks/data_table.ipynb>data table notebook</a>'\n",
              "            + ' to learn more about interactive tables.';\n",
              "          element.innerHTML = '';\n",
              "          dataTable['output_type'] = 'display_data';\n",
              "          await google.colab.output.renderOutput(dataTable, element);\n",
              "          const docLink = document.createElement('div');\n",
              "          docLink.innerHTML = docLinkHtml;\n",
              "          element.appendChild(docLink);\n",
              "        }\n",
              "      </script>\n",
              "    </div>\n",
              "  </div>\n",
              "  "
            ]
          },
          "metadata": {},
          "execution_count": 21
        }
      ]
    },
    {
      "cell_type": "code",
      "source": [
        "df['label'] = df[\"class\"].map({\"large_bowel\":1, \"small_bowel\":2, \"stomach\":3})"
      ],
      "metadata": {
        "id": "FQOBm_TcPAHb"
      },
      "execution_count": 22,
      "outputs": []
    },
    {
      "cell_type": "code",
      "source": [
        "df.head()"
      ],
      "metadata": {
        "colab": {
          "base_uri": "https://localhost:8080/",
          "height": 206
        },
        "id": "9_3J2uf2QWCC",
        "outputId": "ebf1b343-4dfd-4be3-beb5-c31ca2a7870d"
      },
      "execution_count": 23,
      "outputs": [
        {
          "output_type": "execute_result",
          "data": {
            "text/plain": [
              "                         id        class segmentation  label\n",
              "0  case123_day20_slice_0001  large_bowel          NaN      1\n",
              "1  case123_day20_slice_0001  small_bowel          NaN      2\n",
              "2  case123_day20_slice_0001      stomach          NaN      3\n",
              "3  case123_day20_slice_0002  large_bowel          NaN      1\n",
              "4  case123_day20_slice_0002  small_bowel          NaN      2"
            ],
            "text/html": [
              "\n",
              "  <div id=\"df-74e1b515-f596-40d1-a67d-1b3ec1854172\">\n",
              "    <div class=\"colab-df-container\">\n",
              "      <div>\n",
              "<style scoped>\n",
              "    .dataframe tbody tr th:only-of-type {\n",
              "        vertical-align: middle;\n",
              "    }\n",
              "\n",
              "    .dataframe tbody tr th {\n",
              "        vertical-align: top;\n",
              "    }\n",
              "\n",
              "    .dataframe thead th {\n",
              "        text-align: right;\n",
              "    }\n",
              "</style>\n",
              "<table border=\"1\" class=\"dataframe\">\n",
              "  <thead>\n",
              "    <tr style=\"text-align: right;\">\n",
              "      <th></th>\n",
              "      <th>id</th>\n",
              "      <th>class</th>\n",
              "      <th>segmentation</th>\n",
              "      <th>label</th>\n",
              "    </tr>\n",
              "  </thead>\n",
              "  <tbody>\n",
              "    <tr>\n",
              "      <th>0</th>\n",
              "      <td>case123_day20_slice_0001</td>\n",
              "      <td>large_bowel</td>\n",
              "      <td>NaN</td>\n",
              "      <td>1</td>\n",
              "    </tr>\n",
              "    <tr>\n",
              "      <th>1</th>\n",
              "      <td>case123_day20_slice_0001</td>\n",
              "      <td>small_bowel</td>\n",
              "      <td>NaN</td>\n",
              "      <td>2</td>\n",
              "    </tr>\n",
              "    <tr>\n",
              "      <th>2</th>\n",
              "      <td>case123_day20_slice_0001</td>\n",
              "      <td>stomach</td>\n",
              "      <td>NaN</td>\n",
              "      <td>3</td>\n",
              "    </tr>\n",
              "    <tr>\n",
              "      <th>3</th>\n",
              "      <td>case123_day20_slice_0002</td>\n",
              "      <td>large_bowel</td>\n",
              "      <td>NaN</td>\n",
              "      <td>1</td>\n",
              "    </tr>\n",
              "    <tr>\n",
              "      <th>4</th>\n",
              "      <td>case123_day20_slice_0002</td>\n",
              "      <td>small_bowel</td>\n",
              "      <td>NaN</td>\n",
              "      <td>2</td>\n",
              "    </tr>\n",
              "  </tbody>\n",
              "</table>\n",
              "</div>\n",
              "      <button class=\"colab-df-convert\" onclick=\"convertToInteractive('df-74e1b515-f596-40d1-a67d-1b3ec1854172')\"\n",
              "              title=\"Convert this dataframe to an interactive table.\"\n",
              "              style=\"display:none;\">\n",
              "        \n",
              "  <svg xmlns=\"http://www.w3.org/2000/svg\" height=\"24px\"viewBox=\"0 0 24 24\"\n",
              "       width=\"24px\">\n",
              "    <path d=\"M0 0h24v24H0V0z\" fill=\"none\"/>\n",
              "    <path d=\"M18.56 5.44l.94 2.06.94-2.06 2.06-.94-2.06-.94-.94-2.06-.94 2.06-2.06.94zm-11 1L8.5 8.5l.94-2.06 2.06-.94-2.06-.94L8.5 2.5l-.94 2.06-2.06.94zm10 10l.94 2.06.94-2.06 2.06-.94-2.06-.94-.94-2.06-.94 2.06-2.06.94z\"/><path d=\"M17.41 7.96l-1.37-1.37c-.4-.4-.92-.59-1.43-.59-.52 0-1.04.2-1.43.59L10.3 9.45l-7.72 7.72c-.78.78-.78 2.05 0 2.83L4 21.41c.39.39.9.59 1.41.59.51 0 1.02-.2 1.41-.59l7.78-7.78 2.81-2.81c.8-.78.8-2.07 0-2.86zM5.41 20L4 18.59l7.72-7.72 1.47 1.35L5.41 20z\"/>\n",
              "  </svg>\n",
              "      </button>\n",
              "      \n",
              "  <style>\n",
              "    .colab-df-container {\n",
              "      display:flex;\n",
              "      flex-wrap:wrap;\n",
              "      gap: 12px;\n",
              "    }\n",
              "\n",
              "    .colab-df-convert {\n",
              "      background-color: #E8F0FE;\n",
              "      border: none;\n",
              "      border-radius: 50%;\n",
              "      cursor: pointer;\n",
              "      display: none;\n",
              "      fill: #1967D2;\n",
              "      height: 32px;\n",
              "      padding: 0 0 0 0;\n",
              "      width: 32px;\n",
              "    }\n",
              "\n",
              "    .colab-df-convert:hover {\n",
              "      background-color: #E2EBFA;\n",
              "      box-shadow: 0px 1px 2px rgba(60, 64, 67, 0.3), 0px 1px 3px 1px rgba(60, 64, 67, 0.15);\n",
              "      fill: #174EA6;\n",
              "    }\n",
              "\n",
              "    [theme=dark] .colab-df-convert {\n",
              "      background-color: #3B4455;\n",
              "      fill: #D2E3FC;\n",
              "    }\n",
              "\n",
              "    [theme=dark] .colab-df-convert:hover {\n",
              "      background-color: #434B5C;\n",
              "      box-shadow: 0px 1px 3px 1px rgba(0, 0, 0, 0.15);\n",
              "      filter: drop-shadow(0px 1px 2px rgba(0, 0, 0, 0.3));\n",
              "      fill: #FFFFFF;\n",
              "    }\n",
              "  </style>\n",
              "\n",
              "      <script>\n",
              "        const buttonEl =\n",
              "          document.querySelector('#df-74e1b515-f596-40d1-a67d-1b3ec1854172 button.colab-df-convert');\n",
              "        buttonEl.style.display =\n",
              "          google.colab.kernel.accessAllowed ? 'block' : 'none';\n",
              "\n",
              "        async function convertToInteractive(key) {\n",
              "          const element = document.querySelector('#df-74e1b515-f596-40d1-a67d-1b3ec1854172');\n",
              "          const dataTable =\n",
              "            await google.colab.kernel.invokeFunction('convertToInteractive',\n",
              "                                                     [key], {});\n",
              "          if (!dataTable) return;\n",
              "\n",
              "          const docLinkHtml = 'Like what you see? Visit the ' +\n",
              "            '<a target=\"_blank\" href=https://colab.research.google.com/notebooks/data_table.ipynb>data table notebook</a>'\n",
              "            + ' to learn more about interactive tables.';\n",
              "          element.innerHTML = '';\n",
              "          dataTable['output_type'] = 'display_data';\n",
              "          await google.colab.output.renderOutput(dataTable, element);\n",
              "          const docLink = document.createElement('div');\n",
              "          docLink.innerHTML = docLinkHtml;\n",
              "          element.appendChild(docLink);\n",
              "        }\n",
              "      </script>\n",
              "    </div>\n",
              "  </div>\n",
              "  "
            ]
          },
          "metadata": {},
          "execution_count": 23
        }
      ]
    },
    {
      "cell_type": "code",
      "source": [
        "print(\"df shape: \", df.shape)\n",
        "print(\"sub_df shape: \", sub_df.shape)\n",
        "print(\"unique ids: \", df.shape[0]//3)"
      ],
      "metadata": {
        "colab": {
          "base_uri": "https://localhost:8080/"
        },
        "id": "dztBqTtKW4bH",
        "outputId": "564b7e31-2a80-494b-e412-992679bd0c52"
      },
      "execution_count": 24,
      "outputs": [
        {
          "output_type": "stream",
          "name": "stdout",
          "text": [
            "df shape:  (115488, 4)\n",
            "sub_df shape:  (38496, 1)\n",
            "unique ids:  38496\n"
          ]
        }
      ]
    },
    {
      "cell_type": "code",
      "source": [
        "paths = glob(f\"/content/sample_data/Mask_RCNN/train/**/*png\", recursive = True)\n",
        "# paths = glob(f'/kaggle/input/uw-madison-gi-tract-image-segmentation/train/**/*/png',recursive=True)\n",
        "\n",
        "dct = {}\n",
        "paths.sort()\n",
        "for path in paths:\n",
        "    case, day = path.split(\"/\")[6].split(\"_\")\n",
        "    slice = path.split(\"/\")[8].split(\"_\")[1]\n",
        "    key = case + \"_\" + day + \"_slice_\" + slice\n",
        "    dct[key] = path"
      ],
      "metadata": {
        "id": "Pj5UionEloNy"
      },
      "execution_count": 25,
      "outputs": []
    },
    {
      "cell_type": "code",
      "source": [
        "df[\"image_path\"] = df[\"id\"].map(dct)"
      ],
      "metadata": {
        "id": "VGLmJXcXm6xH"
      },
      "execution_count": 26,
      "outputs": []
    },
    {
      "cell_type": "code",
      "source": [
        "df.head()"
      ],
      "metadata": {
        "colab": {
          "base_uri": "https://localhost:8080/",
          "height": 206
        },
        "id": "qbqSyKmsnGOW",
        "outputId": "6bfa5a18-853a-499e-e8e5-cea41ac3bb81"
      },
      "execution_count": 27,
      "outputs": [
        {
          "output_type": "execute_result",
          "data": {
            "text/plain": [
              "                         id        class segmentation  label  \\\n",
              "0  case123_day20_slice_0001  large_bowel          NaN      1   \n",
              "1  case123_day20_slice_0001  small_bowel          NaN      2   \n",
              "2  case123_day20_slice_0001      stomach          NaN      3   \n",
              "3  case123_day20_slice_0002  large_bowel          NaN      1   \n",
              "4  case123_day20_slice_0002  small_bowel          NaN      2   \n",
              "\n",
              "                                          image_path  \n",
              "0  /content/sample_data/Mask_RCNN/train/case123/c...  \n",
              "1  /content/sample_data/Mask_RCNN/train/case123/c...  \n",
              "2  /content/sample_data/Mask_RCNN/train/case123/c...  \n",
              "3  /content/sample_data/Mask_RCNN/train/case123/c...  \n",
              "4  /content/sample_data/Mask_RCNN/train/case123/c...  "
            ],
            "text/html": [
              "\n",
              "  <div id=\"df-9699f266-fb3d-411d-97ad-4d7af63859c2\">\n",
              "    <div class=\"colab-df-container\">\n",
              "      <div>\n",
              "<style scoped>\n",
              "    .dataframe tbody tr th:only-of-type {\n",
              "        vertical-align: middle;\n",
              "    }\n",
              "\n",
              "    .dataframe tbody tr th {\n",
              "        vertical-align: top;\n",
              "    }\n",
              "\n",
              "    .dataframe thead th {\n",
              "        text-align: right;\n",
              "    }\n",
              "</style>\n",
              "<table border=\"1\" class=\"dataframe\">\n",
              "  <thead>\n",
              "    <tr style=\"text-align: right;\">\n",
              "      <th></th>\n",
              "      <th>id</th>\n",
              "      <th>class</th>\n",
              "      <th>segmentation</th>\n",
              "      <th>label</th>\n",
              "      <th>image_path</th>\n",
              "    </tr>\n",
              "  </thead>\n",
              "  <tbody>\n",
              "    <tr>\n",
              "      <th>0</th>\n",
              "      <td>case123_day20_slice_0001</td>\n",
              "      <td>large_bowel</td>\n",
              "      <td>NaN</td>\n",
              "      <td>1</td>\n",
              "      <td>/content/sample_data/Mask_RCNN/train/case123/c...</td>\n",
              "    </tr>\n",
              "    <tr>\n",
              "      <th>1</th>\n",
              "      <td>case123_day20_slice_0001</td>\n",
              "      <td>small_bowel</td>\n",
              "      <td>NaN</td>\n",
              "      <td>2</td>\n",
              "      <td>/content/sample_data/Mask_RCNN/train/case123/c...</td>\n",
              "    </tr>\n",
              "    <tr>\n",
              "      <th>2</th>\n",
              "      <td>case123_day20_slice_0001</td>\n",
              "      <td>stomach</td>\n",
              "      <td>NaN</td>\n",
              "      <td>3</td>\n",
              "      <td>/content/sample_data/Mask_RCNN/train/case123/c...</td>\n",
              "    </tr>\n",
              "    <tr>\n",
              "      <th>3</th>\n",
              "      <td>case123_day20_slice_0002</td>\n",
              "      <td>large_bowel</td>\n",
              "      <td>NaN</td>\n",
              "      <td>1</td>\n",
              "      <td>/content/sample_data/Mask_RCNN/train/case123/c...</td>\n",
              "    </tr>\n",
              "    <tr>\n",
              "      <th>4</th>\n",
              "      <td>case123_day20_slice_0002</td>\n",
              "      <td>small_bowel</td>\n",
              "      <td>NaN</td>\n",
              "      <td>2</td>\n",
              "      <td>/content/sample_data/Mask_RCNN/train/case123/c...</td>\n",
              "    </tr>\n",
              "  </tbody>\n",
              "</table>\n",
              "</div>\n",
              "      <button class=\"colab-df-convert\" onclick=\"convertToInteractive('df-9699f266-fb3d-411d-97ad-4d7af63859c2')\"\n",
              "              title=\"Convert this dataframe to an interactive table.\"\n",
              "              style=\"display:none;\">\n",
              "        \n",
              "  <svg xmlns=\"http://www.w3.org/2000/svg\" height=\"24px\"viewBox=\"0 0 24 24\"\n",
              "       width=\"24px\">\n",
              "    <path d=\"M0 0h24v24H0V0z\" fill=\"none\"/>\n",
              "    <path d=\"M18.56 5.44l.94 2.06.94-2.06 2.06-.94-2.06-.94-.94-2.06-.94 2.06-2.06.94zm-11 1L8.5 8.5l.94-2.06 2.06-.94-2.06-.94L8.5 2.5l-.94 2.06-2.06.94zm10 10l.94 2.06.94-2.06 2.06-.94-2.06-.94-.94-2.06-.94 2.06-2.06.94z\"/><path d=\"M17.41 7.96l-1.37-1.37c-.4-.4-.92-.59-1.43-.59-.52 0-1.04.2-1.43.59L10.3 9.45l-7.72 7.72c-.78.78-.78 2.05 0 2.83L4 21.41c.39.39.9.59 1.41.59.51 0 1.02-.2 1.41-.59l7.78-7.78 2.81-2.81c.8-.78.8-2.07 0-2.86zM5.41 20L4 18.59l7.72-7.72 1.47 1.35L5.41 20z\"/>\n",
              "  </svg>\n",
              "      </button>\n",
              "      \n",
              "  <style>\n",
              "    .colab-df-container {\n",
              "      display:flex;\n",
              "      flex-wrap:wrap;\n",
              "      gap: 12px;\n",
              "    }\n",
              "\n",
              "    .colab-df-convert {\n",
              "      background-color: #E8F0FE;\n",
              "      border: none;\n",
              "      border-radius: 50%;\n",
              "      cursor: pointer;\n",
              "      display: none;\n",
              "      fill: #1967D2;\n",
              "      height: 32px;\n",
              "      padding: 0 0 0 0;\n",
              "      width: 32px;\n",
              "    }\n",
              "\n",
              "    .colab-df-convert:hover {\n",
              "      background-color: #E2EBFA;\n",
              "      box-shadow: 0px 1px 2px rgba(60, 64, 67, 0.3), 0px 1px 3px 1px rgba(60, 64, 67, 0.15);\n",
              "      fill: #174EA6;\n",
              "    }\n",
              "\n",
              "    [theme=dark] .colab-df-convert {\n",
              "      background-color: #3B4455;\n",
              "      fill: #D2E3FC;\n",
              "    }\n",
              "\n",
              "    [theme=dark] .colab-df-convert:hover {\n",
              "      background-color: #434B5C;\n",
              "      box-shadow: 0px 1px 3px 1px rgba(0, 0, 0, 0.15);\n",
              "      filter: drop-shadow(0px 1px 2px rgba(0, 0, 0, 0.3));\n",
              "      fill: #FFFFFF;\n",
              "    }\n",
              "  </style>\n",
              "\n",
              "      <script>\n",
              "        const buttonEl =\n",
              "          document.querySelector('#df-9699f266-fb3d-411d-97ad-4d7af63859c2 button.colab-df-convert');\n",
              "        buttonEl.style.display =\n",
              "          google.colab.kernel.accessAllowed ? 'block' : 'none';\n",
              "\n",
              "        async function convertToInteractive(key) {\n",
              "          const element = document.querySelector('#df-9699f266-fb3d-411d-97ad-4d7af63859c2');\n",
              "          const dataTable =\n",
              "            await google.colab.kernel.invokeFunction('convertToInteractive',\n",
              "                                                     [key], {});\n",
              "          if (!dataTable) return;\n",
              "\n",
              "          const docLinkHtml = 'Like what you see? Visit the ' +\n",
              "            '<a target=\"_blank\" href=https://colab.research.google.com/notebooks/data_table.ipynb>data table notebook</a>'\n",
              "            + ' to learn more about interactive tables.';\n",
              "          element.innerHTML = '';\n",
              "          dataTable['output_type'] = 'display_data';\n",
              "          await google.colab.output.renderOutput(dataTable, element);\n",
              "          const docLink = document.createElement('div');\n",
              "          docLink.innerHTML = docLinkHtml;\n",
              "          element.appendChild(docLink);\n",
              "        }\n",
              "      </script>\n",
              "    </div>\n",
              "  </div>\n",
              "  "
            ]
          },
          "metadata": {},
          "execution_count": 27
        }
      ]
    },
    {
      "cell_type": "code",
      "source": [
        "def get_metadata(row):\n",
        "    data = row['id'].split('_')\n",
        "    case = int(data[0].replace('case',''))\n",
        "    day = int(data[1].replace('day',''))\n",
        "    slice_ = int(data[-1])\n",
        "    row['case'] = case\n",
        "    row['day'] = day\n",
        "    row['slice'] = slice_\n",
        "    return row\n",
        "\n",
        "def path2info(row):\n",
        "    path = row['image_path']\n",
        "    data = path.split('/')\n",
        "    slice_ = int(data[-1].split('_')[1])\n",
        "    case = int(data[-3].split('_')[0].replace('case',''))\n",
        "    day = int(data[-3].split('_')[1].replace('day',''))\n",
        "    width = int(data[-1].split('_')[2])\n",
        "    height = int(data[-1].split('_')[3])\n",
        "    row['height'] = height\n",
        "    row['width'] = width\n",
        "    row['case'] = case\n",
        "    row['day'] = day\n",
        "    row['slice'] = slice_\n",
        "    return row"
      ],
      "metadata": {
        "id": "1V8X3y2rW4fW"
      },
      "execution_count": 28,
      "outputs": []
    },
    {
      "cell_type": "code",
      "source": [
        "# df = df.apply(lambda x: path2info(x),axis=1)\n",
        "# print(\"path_df: \", df.shape)\n",
        "# df.head()"
      ],
      "metadata": {
        "id": "m_ioYHMWbvv3"
      },
      "execution_count": 29,
      "outputs": []
    },
    {
      "cell_type": "code",
      "source": [
        "# new_df = sub_df.merge(path_df, on=['case','day','slice'], how='left')\n",
        "df[\"case_id_str\"] = df[\"id\"].apply(lambda x: x.split(\"_\", 2)[0])\n",
        "df[\"day_num_str\"] = df[\"id\"].apply(lambda x: x.split(\"_\", 2)[1])\n",
        "df[\"slice_id\"] = df[\"id\"].apply(lambda x: x.split(\"_\", 2)[2])\n",
        "print(\"new_df shape: \", df.shape)\n",
        "df.head()"
      ],
      "metadata": {
        "colab": {
          "base_uri": "https://localhost:8080/",
          "height": 223
        },
        "id": "vIkogLzucNlS",
        "outputId": "e212deb6-3556-4944-f502-00e50945a892"
      },
      "execution_count": 30,
      "outputs": [
        {
          "output_type": "stream",
          "name": "stdout",
          "text": [
            "new_df shape:  (115488, 8)\n"
          ]
        },
        {
          "output_type": "execute_result",
          "data": {
            "text/plain": [
              "                         id        class segmentation  label  \\\n",
              "0  case123_day20_slice_0001  large_bowel          NaN      1   \n",
              "1  case123_day20_slice_0001  small_bowel          NaN      2   \n",
              "2  case123_day20_slice_0001      stomach          NaN      3   \n",
              "3  case123_day20_slice_0002  large_bowel          NaN      1   \n",
              "4  case123_day20_slice_0002  small_bowel          NaN      2   \n",
              "\n",
              "                                          image_path case_id_str day_num_str  \\\n",
              "0  /content/sample_data/Mask_RCNN/train/case123/c...     case123       day20   \n",
              "1  /content/sample_data/Mask_RCNN/train/case123/c...     case123       day20   \n",
              "2  /content/sample_data/Mask_RCNN/train/case123/c...     case123       day20   \n",
              "3  /content/sample_data/Mask_RCNN/train/case123/c...     case123       day20   \n",
              "4  /content/sample_data/Mask_RCNN/train/case123/c...     case123       day20   \n",
              "\n",
              "     slice_id  \n",
              "0  slice_0001  \n",
              "1  slice_0001  \n",
              "2  slice_0001  \n",
              "3  slice_0002  \n",
              "4  slice_0002  "
            ],
            "text/html": [
              "\n",
              "  <div id=\"df-396431db-d729-4453-a18e-99905d161702\">\n",
              "    <div class=\"colab-df-container\">\n",
              "      <div>\n",
              "<style scoped>\n",
              "    .dataframe tbody tr th:only-of-type {\n",
              "        vertical-align: middle;\n",
              "    }\n",
              "\n",
              "    .dataframe tbody tr th {\n",
              "        vertical-align: top;\n",
              "    }\n",
              "\n",
              "    .dataframe thead th {\n",
              "        text-align: right;\n",
              "    }\n",
              "</style>\n",
              "<table border=\"1\" class=\"dataframe\">\n",
              "  <thead>\n",
              "    <tr style=\"text-align: right;\">\n",
              "      <th></th>\n",
              "      <th>id</th>\n",
              "      <th>class</th>\n",
              "      <th>segmentation</th>\n",
              "      <th>label</th>\n",
              "      <th>image_path</th>\n",
              "      <th>case_id_str</th>\n",
              "      <th>day_num_str</th>\n",
              "      <th>slice_id</th>\n",
              "    </tr>\n",
              "  </thead>\n",
              "  <tbody>\n",
              "    <tr>\n",
              "      <th>0</th>\n",
              "      <td>case123_day20_slice_0001</td>\n",
              "      <td>large_bowel</td>\n",
              "      <td>NaN</td>\n",
              "      <td>1</td>\n",
              "      <td>/content/sample_data/Mask_RCNN/train/case123/c...</td>\n",
              "      <td>case123</td>\n",
              "      <td>day20</td>\n",
              "      <td>slice_0001</td>\n",
              "    </tr>\n",
              "    <tr>\n",
              "      <th>1</th>\n",
              "      <td>case123_day20_slice_0001</td>\n",
              "      <td>small_bowel</td>\n",
              "      <td>NaN</td>\n",
              "      <td>2</td>\n",
              "      <td>/content/sample_data/Mask_RCNN/train/case123/c...</td>\n",
              "      <td>case123</td>\n",
              "      <td>day20</td>\n",
              "      <td>slice_0001</td>\n",
              "    </tr>\n",
              "    <tr>\n",
              "      <th>2</th>\n",
              "      <td>case123_day20_slice_0001</td>\n",
              "      <td>stomach</td>\n",
              "      <td>NaN</td>\n",
              "      <td>3</td>\n",
              "      <td>/content/sample_data/Mask_RCNN/train/case123/c...</td>\n",
              "      <td>case123</td>\n",
              "      <td>day20</td>\n",
              "      <td>slice_0001</td>\n",
              "    </tr>\n",
              "    <tr>\n",
              "      <th>3</th>\n",
              "      <td>case123_day20_slice_0002</td>\n",
              "      <td>large_bowel</td>\n",
              "      <td>NaN</td>\n",
              "      <td>1</td>\n",
              "      <td>/content/sample_data/Mask_RCNN/train/case123/c...</td>\n",
              "      <td>case123</td>\n",
              "      <td>day20</td>\n",
              "      <td>slice_0002</td>\n",
              "    </tr>\n",
              "    <tr>\n",
              "      <th>4</th>\n",
              "      <td>case123_day20_slice_0002</td>\n",
              "      <td>small_bowel</td>\n",
              "      <td>NaN</td>\n",
              "      <td>2</td>\n",
              "      <td>/content/sample_data/Mask_RCNN/train/case123/c...</td>\n",
              "      <td>case123</td>\n",
              "      <td>day20</td>\n",
              "      <td>slice_0002</td>\n",
              "    </tr>\n",
              "  </tbody>\n",
              "</table>\n",
              "</div>\n",
              "      <button class=\"colab-df-convert\" onclick=\"convertToInteractive('df-396431db-d729-4453-a18e-99905d161702')\"\n",
              "              title=\"Convert this dataframe to an interactive table.\"\n",
              "              style=\"display:none;\">\n",
              "        \n",
              "  <svg xmlns=\"http://www.w3.org/2000/svg\" height=\"24px\"viewBox=\"0 0 24 24\"\n",
              "       width=\"24px\">\n",
              "    <path d=\"M0 0h24v24H0V0z\" fill=\"none\"/>\n",
              "    <path d=\"M18.56 5.44l.94 2.06.94-2.06 2.06-.94-2.06-.94-.94-2.06-.94 2.06-2.06.94zm-11 1L8.5 8.5l.94-2.06 2.06-.94-2.06-.94L8.5 2.5l-.94 2.06-2.06.94zm10 10l.94 2.06.94-2.06 2.06-.94-2.06-.94-.94-2.06-.94 2.06-2.06.94z\"/><path d=\"M17.41 7.96l-1.37-1.37c-.4-.4-.92-.59-1.43-.59-.52 0-1.04.2-1.43.59L10.3 9.45l-7.72 7.72c-.78.78-.78 2.05 0 2.83L4 21.41c.39.39.9.59 1.41.59.51 0 1.02-.2 1.41-.59l7.78-7.78 2.81-2.81c.8-.78.8-2.07 0-2.86zM5.41 20L4 18.59l7.72-7.72 1.47 1.35L5.41 20z\"/>\n",
              "  </svg>\n",
              "      </button>\n",
              "      \n",
              "  <style>\n",
              "    .colab-df-container {\n",
              "      display:flex;\n",
              "      flex-wrap:wrap;\n",
              "      gap: 12px;\n",
              "    }\n",
              "\n",
              "    .colab-df-convert {\n",
              "      background-color: #E8F0FE;\n",
              "      border: none;\n",
              "      border-radius: 50%;\n",
              "      cursor: pointer;\n",
              "      display: none;\n",
              "      fill: #1967D2;\n",
              "      height: 32px;\n",
              "      padding: 0 0 0 0;\n",
              "      width: 32px;\n",
              "    }\n",
              "\n",
              "    .colab-df-convert:hover {\n",
              "      background-color: #E2EBFA;\n",
              "      box-shadow: 0px 1px 2px rgba(60, 64, 67, 0.3), 0px 1px 3px 1px rgba(60, 64, 67, 0.15);\n",
              "      fill: #174EA6;\n",
              "    }\n",
              "\n",
              "    [theme=dark] .colab-df-convert {\n",
              "      background-color: #3B4455;\n",
              "      fill: #D2E3FC;\n",
              "    }\n",
              "\n",
              "    [theme=dark] .colab-df-convert:hover {\n",
              "      background-color: #434B5C;\n",
              "      box-shadow: 0px 1px 3px 1px rgba(0, 0, 0, 0.15);\n",
              "      filter: drop-shadow(0px 1px 2px rgba(0, 0, 0, 0.3));\n",
              "      fill: #FFFFFF;\n",
              "    }\n",
              "  </style>\n",
              "\n",
              "      <script>\n",
              "        const buttonEl =\n",
              "          document.querySelector('#df-396431db-d729-4453-a18e-99905d161702 button.colab-df-convert');\n",
              "        buttonEl.style.display =\n",
              "          google.colab.kernel.accessAllowed ? 'block' : 'none';\n",
              "\n",
              "        async function convertToInteractive(key) {\n",
              "          const element = document.querySelector('#df-396431db-d729-4453-a18e-99905d161702');\n",
              "          const dataTable =\n",
              "            await google.colab.kernel.invokeFunction('convertToInteractive',\n",
              "                                                     [key], {});\n",
              "          if (!dataTable) return;\n",
              "\n",
              "          const docLinkHtml = 'Like what you see? Visit the ' +\n",
              "            '<a target=\"_blank\" href=https://colab.research.google.com/notebooks/data_table.ipynb>data table notebook</a>'\n",
              "            + ' to learn more about interactive tables.';\n",
              "          element.innerHTML = '';\n",
              "          dataTable['output_type'] = 'display_data';\n",
              "          await google.colab.output.renderOutput(dataTable, element);\n",
              "          const docLink = document.createElement('div');\n",
              "          docLink.innerHTML = docLinkHtml;\n",
              "          element.appendChild(docLink);\n",
              "        }\n",
              "      </script>\n",
              "    </div>\n",
              "  </div>\n",
              "  "
            ]
          },
          "metadata": {},
          "execution_count": 30
        }
      ]
    },
    {
      "cell_type": "code",
      "source": [
        "# test_data = []\n",
        "\n",
        "# for group in test_df.groupby([\"case_id_str\", \"day_num_str\"]):\n",
        "\n",
        "#     case_id_str, day_num_str = group[0]\n",
        "#     group_id = case_id_str + \"_\" + day_num_str\n",
        "#     group_df = group[1].sort_values(\"slice_id\", ascending=True)\n",
        "#     n_slices = group_df.shape[0]\n",
        "#     group_slices, group_ids = [], []\n",
        "#     for idx in range(n_slices):\n",
        "#         slc = group_df.iloc[idx]\n",
        "#         group_slices.append(slc.image_path)\n",
        "#         group_ids.append(slc.id)\n",
        "#     test_data.append({\"image\": group_slices, \"id\": group_ids})"
      ],
      "metadata": {
        "id": "K6ZBWTJicNo3"
      },
      "execution_count": 31,
      "outputs": []
    },
    {
      "cell_type": "code",
      "source": [
        "temp = df[\"segmentation\"].isna()\n",
        "train_df = df[[not tmp for tmp in temp]]\n",
        "test_df = df[temp]\n",
        "val_df = train_df[30000:]\n",
        "train_df = train_df[:30000]\n",
        "print(\"train_df shape: \", train_df.shape)\n",
        "print(\"val_df shape: \", val_df.shape)\n",
        "print(\"test_df shape: \", test_df.shape)"
      ],
      "metadata": {
        "colab": {
          "base_uri": "https://localhost:8080/"
        },
        "id": "ojcmjQdsX2kg",
        "outputId": "377318e6-38ec-49a0-e66d-61180390f5a5"
      },
      "execution_count": 32,
      "outputs": [
        {
          "output_type": "stream",
          "name": "stdout",
          "text": [
            "train_df shape:  (30000, 8)\n",
            "val_df shape:  (3913, 8)\n",
            "test_df shape:  (81575, 8)\n"
          ]
        }
      ]
    },
    {
      "cell_type": "code",
      "source": [
        "train_df = train_df.reset_index(drop = True)\n",
        "val_df = val_df.reset_index(drop = True)\n",
        "test_df = test_df.reset_index(drop = True)"
      ],
      "metadata": {
        "id": "5MEuKziR9VEL"
      },
      "execution_count": 33,
      "outputs": []
    },
    {
      "cell_type": "code",
      "source": [
        "# temp = []\n",
        "# for id, sub_group in df.groupby(\"id\"):\n",
        "#     if sub_group[\"segmentation\"].isna().sum()>0:\n",
        "#         temp+=[True, True, True]\n",
        "#     else:\n",
        "#         temp+=[False, False, False]"
      ],
      "metadata": {
        "id": "-TDxO63DXbpy"
      },
      "execution_count": 34,
      "outputs": []
    },
    {
      "cell_type": "code",
      "source": [
        "train_df.isna().sum()"
      ],
      "metadata": {
        "colab": {
          "base_uri": "https://localhost:8080/"
        },
        "id": "diXHo62GZyCZ",
        "outputId": "5bd1cb23-d72c-42a1-98a9-c08e30296c37"
      },
      "execution_count": 35,
      "outputs": [
        {
          "output_type": "execute_result",
          "data": {
            "text/plain": [
              "id              0\n",
              "class           0\n",
              "segmentation    0\n",
              "label           0\n",
              "image_path      0\n",
              "case_id_str     0\n",
              "day_num_str     0\n",
              "slice_id        0\n",
              "dtype: int64"
            ]
          },
          "metadata": {},
          "execution_count": 35
        }
      ]
    },
    {
      "cell_type": "code",
      "source": [
        "def mask_to_border(mask):\n",
        "    h, w = mask.shape\n",
        "    border = np.zeros((h,w))\n",
        "    contours = find_contours(mask, 0.5)\n",
        "    for contour in contours:\n",
        "        for c in contour:\n",
        "            x = int(c[0])\n",
        "            y = int(c[1])\n",
        "            border[x][y] = 1\n",
        "    return border\n",
        "\n",
        "def mask_to_bbox(mask):\n",
        "    bboxes = []\n",
        "    border = mask_to_border(mask)\n",
        "    lbl = label(border)\n",
        "    props = regionprops(lbl)\n",
        "    for prop in props:\n",
        "        x1 = prop.bbox[0]\n",
        "        y1 = prop.bbox[1]\n",
        "        x2 = prop.bbox[2]\n",
        "        y2 = prop.bbox[3]\n",
        "        bboxes.append([x1,y1, x2, y2])\n",
        "    return bboxes"
      ],
      "metadata": {
        "id": "B16TxjJBM4ir"
      },
      "execution_count": 36,
      "outputs": []
    },
    {
      "cell_type": "code",
      "source": [
        "def image_to_mask(shape, seg):\n",
        "    mask = np.zeros(shape)\n",
        "    temp = seg.split(\" \")\n",
        "\n",
        "    all_loc = []\n",
        "    b_boxes = []\n",
        "    for i in range(len(temp)//2):\n",
        "        loc = int(temp[i*2])\n",
        "        rng = int(temp[i*2+1])\n",
        "        all_loc += [loc+a for a in range(rng)]\n",
        "    all_loc.sort()\n",
        "    \n",
        "    temp_row = []\n",
        "    temp_col = []\n",
        "    for j,i in enumerate(all_loc):\n",
        "        row = i//shape[1]\n",
        "        col = i - row*shape[1]\n",
        "        mask[row, col] = 1\n",
        "    return mask"
      ],
      "metadata": {
        "id": "5qBWMy1FNH9i"
      },
      "execution_count": 37,
      "outputs": []
    },
    {
      "cell_type": "code",
      "source": [
        "train_df['image_path'].iloc[5].split(\"/\")[-1]"
      ],
      "metadata": {
        "colab": {
          "base_uri": "https://localhost:8080/",
          "height": 36
        },
        "id": "7F94BTl59J2u",
        "outputId": "70ce3367-ffbb-4263-b433-d1a244f544b7"
      },
      "execution_count": 38,
      "outputs": [
        {
          "output_type": "execute_result",
          "data": {
            "text/plain": [
              "'slice_0070_266_266_1.50_1.50.png'"
            ],
            "application/vnd.google.colaboratory.intrinsic+json": {
              "type": "string"
            }
          },
          "metadata": {},
          "execution_count": 38
        }
      ]
    },
    {
      "cell_type": "code",
      "source": [
        "os.mkdir(\"dataset\")\n",
        "os.mkdir(\"dataset/train\")\n",
        "os.mkdir(\"dataset/val\")\n",
        "os.mkdir(\"dataset/test\")"
      ],
      "metadata": {
        "id": "CPB1UKctFAuy"
      },
      "execution_count": 39,
      "outputs": []
    },
    {
      "cell_type": "code",
      "source": [
        "def Annot(preprocess_path, df, train_or_val, res=0.6, surf=100, eps=0.01):\n",
        "    if train_or_val == \"train\":\n",
        "        base_dir = \"/content/sample_data/Mask_RCNN/dataset/train/\"\n",
        "    else:\n",
        "        base_dir = \"/content/sample_data/Mask_RCNN/dataset/val/\"\n",
        "    jsonf = {} # only one big annotation file\n",
        "    with open(os.path.join(base_dir, \"via_project.json\"), 'w') as js_file:\n",
        "        gt_path = os.path.join(preprocess_path, 'gt')\n",
        "        # images_path = os.path.join(preprocess_path, 'images')\n",
        "        images_path = df[\"image_path\"].values.tolist()\n",
        "        seg = df[\"segmentation\"].values.tolist()\n",
        "        labels = df[\"class\"].values.tolist()\n",
        "        # All the elements in the images folders\n",
        "        # lst = os.listdir(images_path)\n",
        "        lst = df[\"id\"].values.tolist()\n",
        "        # for elt in tqdm(lst, desc='lst'):\n",
        "        for i, img_path in enumerate(images_path):\n",
        "            elt = lst[i]\n",
        "            label = labels[i]\n",
        "            # Read the binary mask, and find the contours associated\n",
        "            # gray = cv2.imread(os.path.join(gt_path, elt))\n",
        "            # img = cv2.imread(img_path, cv2.IMREAD_GRAYSCALE)\n",
        "            img = plt.imread(img_path)\n",
        "            save_path = img_path.split(\"/\")[-1]\n",
        "            if not os.path.exists(base_dir + save_path):\n",
        "                img_min = img.min()\n",
        "                img_max = img.max()\n",
        "                img_range = img_max - img_min\n",
        "                img = (img-img_min)/img_range\n",
        "                img = img.astype(\"float32\")\n",
        "                plt.imsave(base_dir + save_path, img*255)\n",
        "\n",
        "            shape = img.shape\n",
        "            gray = image_to_mask(shape, seg[i])\n",
        "            imgray = gray*255.0\n",
        "            # print(imgray.shape)\n",
        "            # imgray = cv2.cvtColor(gray, cv2.COLOR_BGR2GRAY)\n",
        "\n",
        "            # _, thresh = cv2.threshold(imgray, 127, 255, 0)\n",
        "            # contours, _ = cv2.findContours(thresh, cv2.RETR_TREE, cv2.CHAIN_APPROX_SIMPLE)\n",
        "            # border = mask_to_border(mask)\n",
        "            # contours = np.where(border == 1.0)\n",
        "\n",
        "            _, thresh = cv2.threshold(imgray, 127, 255, 0)\n",
        "            # thresh = thresh//255\n",
        "            \n",
        "            thresh = thresh.astype(np.ubyte)\n",
        "            # print(thresh.shape)\n",
        "            contours, _ = cv2.findContours(thresh, cv2.RETR_TREE, cv2.CHAIN_APPROX_SIMPLE)\n",
        "            \n",
        "            # https://www.pyimagesearch.com/2021/10/06/opencv-contour-approximation/\n",
        "            # Contours approximation based on Ramer–Douglas–Peucker (RDP) algorithm\n",
        "            areas = [cv2.contourArea(contours[idx])*res*res for idx in range(len(contours))]\n",
        "            large_contour = []\n",
        "            for i in range(len(areas)):\n",
        "                if areas[i]>surf:\n",
        "                    large_contour.append(contours[i])\n",
        "            approx_contour = [cv2.approxPolyDP(c, eps * cv2.arcLength(c, True), True) for c in large_contour]\n",
        "            \n",
        "            # -------------------------------------------------------------------------------\n",
        "            # BUILDING VGG ANNTOTATION TOOL ANNOTATIONS LIKE \n",
        "            if len(approx_contour) > 0:\n",
        "                regions = [0 for i in range(len(approx_contour))]\n",
        "                for i in range(len(approx_contour)):\n",
        "                    shape_attributes = {}\n",
        "                    region_attributes = {}\n",
        "                    region_attributes['name'] = label\n",
        "                    regionsi = {}\n",
        "                    shape_attributes['name'] = 'polygon'\n",
        "                    shape_attributes['all_points_x'] = approx_contour[i][:, 0][:, 0].tolist()\n",
        "                    # https://stackoverflow.com/questions/26646362/numpy-array-is-not-json-serializable\n",
        "                    shape_attributes['all_points_y'] = approx_contour[i][:, 0][:, 1].tolist()\n",
        "                    regionsi['shape_attributes'] = shape_attributes\n",
        "                    regionsi['region_attributes'] = region_attributes\n",
        "                    regions[i] = regionsi\n",
        "\n",
        "                size = os.path.getsize(img_path)\n",
        "                name = elt + str(size)\n",
        "                json_elt = {}\n",
        "                json_elt['filename'] = save_path \n",
        "                json_elt['size'] = str(size)\n",
        "                json_elt['regions'] = regions\n",
        "                json_elt['file_attributes'] = {}\n",
        "                jsonf[name] = json_elt\n",
        "                \n",
        "        json.dump(jsonf, js_file) "
      ],
      "metadata": {
        "id": "i6FT0ffFyFXT"
      },
      "execution_count": 40,
      "outputs": []
    },
    {
      "cell_type": "code",
      "source": [
        "preprocess_path = \"/content/sample_data/Mask_RCNN/train\"\n",
        "Annot(preprocess_path, train_df, \"train\", res=0.6, surf=100, eps=0.01)\n",
        "Annot(preprocess_path, val_df, \"val\", res=0.6, surf=100, eps=0.01)"
      ],
      "metadata": {
        "id": "D7OYRUFdALu4"
      },
      "execution_count": 41,
      "outputs": []
    },
    {
      "cell_type": "code",
      "source": [
        "# preprocess_path = \"/content/sample_data/Mask_RCNN/train\"\n",
        "# Annot(preprocess_path, val_df, \"val\", res=0.6, surf=100, eps=0.01)"
      ],
      "metadata": {
        "id": "Y4onZoHhcz3N"
      },
      "execution_count": 42,
      "outputs": []
    },
    {
      "cell_type": "code",
      "source": [
        "with open(\"/content/sample_data/Mask_RCNN/dataset/train/via_project.json\") as file:\n",
        "    data = json.load(file)"
      ],
      "metadata": {
        "id": "X0qg3i-AqfQ7"
      },
      "execution_count": 43,
      "outputs": []
    },
    {
      "cell_type": "code",
      "source": [
        "print(plt.imread(\"/content/sample_data/Mask_RCNN/dataset/train/slice_0002_276_276_1.63_1.63.png\").shape)\n",
        "plt.imshow(plt.imread(\"/content/sample_data/Mask_RCNN/dataset/train/slice_0002_276_276_1.63_1.63.png\"))\n",
        "plt.show()"
      ],
      "metadata": {
        "colab": {
          "base_uri": "https://localhost:8080/",
          "height": 286
        },
        "id": "GrIPSQEQbGy6",
        "outputId": "1c4ff282-9682-4180-9da1-45211f82c57c"
      },
      "execution_count": 44,
      "outputs": [
        {
          "output_type": "stream",
          "name": "stdout",
          "text": [
            "(276, 276, 4)\n"
          ]
        },
        {
          "output_type": "display_data",
          "data": {
            "text/plain": [
              "<Figure size 432x288 with 1 Axes>"
            ],
            "image/png": "[encoded data removed]"
          },
          "metadata": {
            "needs_background": "light"
          }
        }
      ]
    },
    {
      "cell_type": "code",
      "source": [
        "print(plt.imread(\"/content/sample_data/Mask_RCNN/train/case102/case102_day0/scans/slice_0005_360_310_1.50_1.50.png\").shape)\n",
        "plt.imshow(plt.imread(\"/content/sample_data/Mask_RCNN/train/case102/case102_day0/scans/slice_0005_360_310_1.50_1.50.png\"), cmap = \"gray\")\n",
        "plt.show()"
      ],
      "metadata": {
        "colab": {
          "base_uri": "https://localhost:8080/",
          "height": 286
        },
        "id": "fO6_YbBTbtNM",
        "outputId": "7eb69854-4c3d-49b6-ba31-61b25c92fdb3"
      },
      "execution_count": 45,
      "outputs": [
        {
          "output_type": "stream",
          "name": "stdout",
          "text": [
            "(310, 360)\n"
          ]
        },
        {
          "output_type": "display_data",
          "data": {
            "text/plain": [
              "<Figure size 432x288 with 1 Axes>"
            ],
            "image/png": "[encoded data removed]"
          },
          "metadata": {
            "needs_background": "light"
          }
        }
      ]
    },
    {
      "cell_type": "code",
      "source": [
        "test_imgs_path = test_df[\"image_path\"].values.tolist()\n",
        "for img_path in test_imgs_path:\n",
        "    save_path = img_path.split(\"/\")[-1]\n",
        "    if not os.path.exists(\"/content/sample_data/Mask_RCNN/dataset/test/\" + save_path):\n",
        "        img = plt.imread(img_path)\n",
        "        # img = cv2.imread(img_path, cv2.IMREAD_GRAYSCALE)\n",
        "        img_min = img.min()\n",
        "        img_max = img.max()\n",
        "        img_range = img_max - img_min\n",
        "        img = (img-img_min)/img_range\n",
        "        img = img.astype(\"float32\")\n",
        "        plt.imsave(\"/content/sample_data/Mask_RCNN/dataset/test/\" + save_path, img*255)\n",
        "        # cv2.imwrite(\"/content/sample_data/Mask_RCNN/dataset/val/\" + save_path, img)"
      ],
      "metadata": {
        "id": "7vvdzv83Fcvb"
      },
      "execution_count": 46,
      "outputs": []
    },
    {
      "cell_type": "code",
      "source": [
        "ROOT_DIR"
      ],
      "metadata": {
        "id": "7FSXY1xXEUDz"
      },
      "execution_count": null,
      "outputs": []
    },
    {
      "cell_type": "code",
      "source": [
        "plt.imread(\"/content/sample_data/Mask_RCNN/dataset/train/slice_0002_276_276_1.63_1.63.png\").shape"
      ],
      "metadata": {
        "id": "wm6Js5K2V_qq"
      },
      "execution_count": null,
      "outputs": []
    },
    {
      "cell_type": "code",
      "source": [
        "plt.imshow(plt.imread(\"/content/sample_data/Mask_RCNN/dataset/train/slice_0003_276_276_1.63_1.63.png\")[:,:,1])"
      ],
      "metadata": {
        "id": "nNSmabmfA53A"
      },
      "execution_count": null,
      "outputs": []
    },
    {
      "cell_type": "code",
      "source": [
        "# train_imgs = os.listdir(\"/content/sample_data/Mask_RCNN/dataset/train\")\n",
        "# for img in train_imgs:\n",
        "#     if (img == \"via_project.json\") or (img == \"mask_rcnn_coco.h5\"):\n",
        "#         pass\n",
        "#     else:\n",
        "#         path = os.path.join(\"/content/sample_data/Mask_RCNN/dataset/train\", img)\n",
        "#         plt.imsave(path, plt.imread(path).astype(\"float32\"))"
      ],
      "metadata": {
        "id": "frJxBjUAh_7Y"
      },
      "execution_count": null,
      "outputs": []
    },
    {
      "cell_type": "code",
      "source": [
        "# val_imgs = os.listdir(\"/content/sample_data/Mask_RCNN/dataset/val\")\n",
        "# for img in val_imgs:\n",
        "#     if (img == \"via_project.json\") or (img == \"mask_rcnn_coco.h5\"):\n",
        "#         pass\n",
        "#     else:\n",
        "#         path = os.path.join(\"/content/sample_data/Mask_RCNN/dataset/val\", img)\n",
        "#         plt.imsave(path, plt.imread(path).astype(\"float32\"))"
      ],
      "metadata": {
        "id": "-8JcX8mGsHQQ"
      },
      "execution_count": 51,
      "outputs": []
    },
    {
      "cell_type": "code",
      "source": [
        "import gc\n",
        "for i in range(10):\n",
        "    gc.collect()"
      ],
      "metadata": {
        "id": "Sk8taFcJ6TLz"
      },
      "execution_count": null,
      "outputs": []
    },
    {
      "cell_type": "code",
      "source": [
        "class CustomConfig(Config):\n",
        "    NAME = \"object\"\n",
        "    IMAGES_PER_GPU = 1\n",
        "\n",
        "    # Number of classes (including background)\n",
        "    NUM_CLASSES = 1 + 3 \n",
        "\n",
        "    STEPS_PER_EPOCH = 10\n",
        "\n",
        "    # freeze_blocks: \"[0,1]\"\n",
        "\n",
        "    DETECTION_MIN_CONFIDENCE = 0.9\n",
        "\n",
        "############################################################\n",
        "#  Dataset\n",
        "############################################################\n",
        "dataset_dir = \"/content/sample_data/Mask_RCNN/dataset\"\n",
        "class CustomDataset(utils.Dataset):\n",
        "    def load_custom(self, dataset_dir, subset):\n",
        "        # Add classes. We have only one class to add.\n",
        "        self.add_class(\"object\", 1, \"large_bowel\")\n",
        "        self.add_class(\"object\", 2, \"small_bowel\")\n",
        "        self.add_class(\"object\", 3, \"stomach\")\n",
        "\n",
        "        # Train or validation dataset?\n",
        "        assert subset in [\"train\", \"val\"]\n",
        "        dataset_dir = os.path.join(dataset_dir, subset)\n",
        "\n",
        "        # Load annotations\n",
        "        annotations1 = json.load(open(\"/content/sample_data/Mask_RCNN/dataset/\" + str(subset) + \"/via_project.json\")) \n",
        "        # print(annotations1)\n",
        "        annotations = list(annotations1.values())\n",
        "\n",
        "        annotations = [a for a in annotations if a['regions']]\n",
        "        \n",
        "        # Add images\n",
        "        for a in annotations:\n",
        "            # print(a)\n",
        "            polygons = [r['shape_attributes'] for r in a['regions']] \n",
        "            objects = [s['region_attributes']['name'] for s in a['regions']]\n",
        "            print(\"objects:\",objects)\n",
        "\n",
        "            name_dict = {\"large_bowel\": 1,\"small_bowel\": 2, \"stomach\": 3} #,\"xyz\": 3}\n",
        "            num_ids = [name_dict[a] for a in objects]\n",
        "     \n",
        "            print(\"numids\",num_ids)\n",
        "            image_path = os.path.join(dataset_dir, a['filename'])\n",
        "            image = skimage.io.imread(image_path).astype(\"float32\")\n",
        "            height, width = image.shape[:2]\n",
        "\n",
        "            self.add_image(\n",
        "                \"object\",  ## for a single class just add the name here\n",
        "                image_id=a['filename'],  # use file name as a unique image id\n",
        "                path=image_path,\n",
        "                width=width, height=height,\n",
        "                polygons=polygons,\n",
        "                num_ids=num_ids\n",
        "                )\n",
        "\n",
        "    def load_mask(self, image_id):\n",
        "        image_info = self.image_info[image_id]\n",
        "        if image_info[\"source\"] != \"object\":\n",
        "            return super(self.__class__, self).load_mask(image_id)\n",
        "\n",
        "        info = self.image_info[image_id]\n",
        "        if info[\"source\"] != \"object\":\n",
        "            return super(self.__class__, self).load_mask(image_id)\n",
        "        num_ids = info['num_ids']\n",
        "        mask = np.zeros([info[\"height\"], info[\"width\"], len(info[\"polygons\"])],\n",
        "                        dtype=np.uint8)\n",
        "        for i, p in enumerate(info[\"polygons\"]):\n",
        "            # Get indexes of pixels inside the polygon and set them to 1\n",
        "        \trr, cc = skimage.draw.polygon(p['all_points_y'], p['all_points_x'])\n",
        "\n",
        "        \tmask[rr, cc, i] = 1\n",
        "\n",
        "        num_ids = np.array(num_ids, dtype=np.int32)\n",
        "        return mask, num_ids \n",
        "\n",
        "    def image_reference(self, image_id):\n",
        "        \"\"\"Return the path of the image.\"\"\"\n",
        "        info = self.image_info[image_id]\n",
        "        if info[\"source\"] == \"object\":\n",
        "            return info[\"path\"]\n",
        "        else:\n",
        "            super(self.__class__, self).image_reference(image_id)"
      ],
      "metadata": {
        "id": "_DaaOKA3f53Q"
      },
      "execution_count": 53,
      "outputs": []
    },
    {
      "cell_type": "code",
      "source": [
        "# class MyCallback(tf.keras.callbacks.Callback):\n",
        "#     def __init__(self)"
      ],
      "metadata": {
        "id": "QWdAsDD9tRpT"
      },
      "execution_count": 54,
      "outputs": []
    },
    {
      "cell_type": "code",
      "source": [
        "config = CustomConfig()\n",
        "config.BACKBONE = \"resnet50\""
      ],
      "metadata": {
        "id": "DamTSLBr7X3M"
      },
      "execution_count": 62,
      "outputs": []
    },
    {
      "cell_type": "code",
      "source": [
        "config.WEIGHT_DECAY = 0.00001"
      ],
      "metadata": {
        "id": "y-4-gCXM68Kd"
      },
      "execution_count": 63,
      "outputs": []
    },
    {
      "cell_type": "code",
      "source": [
        "def train(model, epochs = 10, lr = 0.001):\n",
        "    \"\"\"Train the model.\"\"\"\n",
        "    # Training dataset.\n",
        "    dataset_train = CustomDataset()\n",
        "    dataset_train.load_custom(\"/content/sample_data/Mask_RCNN/dataset\", \"train\")\n",
        "    dataset_train.prepare()\n",
        "\n",
        "    # Validation dataset\n",
        "    dataset_val = CustomDataset()\n",
        "    dataset_val.load_custom(\"/content/sample_data/Mask_RCNN/dataset\", \"val\")\n",
        "    dataset_val.prepare()\n",
        "\n",
        "    print(\"Training network heads\")\n",
        "\n",
        "    model.train(dataset_train, dataset_val,\n",
        "                learning_rate=lr,\n",
        "                epochs=epochs,\n",
        "                layers=\"all\",\n",
        "                )\n",
        "                # layers=[\"heads\", \"all\"])"
      ],
      "metadata": {
        "id": "AiMmr4QqgIUS"
      },
      "execution_count": 64,
      "outputs": []
    },
    {
      "cell_type": "code",
      "execution_count": null,
      "metadata": {
        "id": "p5CF7KzyZCJU"
      },
      "outputs": [],
      "source": [
        "# Path to trained weights file\n",
        "COCO_WEIGHTS_PATH = os.path.join(ROOT_DIR, \"mask_rcnn_coco.h5\")\n",
        "\n",
        "# Directory to save logs and model checkpoints\n",
        "DEFAULT_LOGS_DIR = os.path.join(ROOT_DIR, \"logs\")\n",
        "\n",
        "model = modellib.MaskRCNN(mode=\"training\", config=config, model_dir=DEFAULT_LOGS_DIR)\n",
        "\n",
        "weights_path = COCO_WEIGHTS_PATH\n",
        "        # Download weights file\n",
        "if not os.path.exists(weights_path):\n",
        "    utils.download_trained_weights(weights_path)\n",
        "\n",
        "\n",
        "# def state_modifier(state_dict):\n",
        "#     state_dict.pop(\"mask.conv5.bias\")\n",
        "#     state_dict.pop(\"mask.conv5.weight\")\n",
        "#     state_dict.pop(\"classifier.linear_class.bias\")\n",
        "#     state_dict.pop(\"classifier.linear_class.weight\")\n",
        "#     state_dict.pop(\"classifier.linear_bbox.bias\")\n",
        "#     state_dict.pop(\"classifier.linear_bbox.weight\")\n",
        "#     return state_dict\n",
        "\n",
        "# model.load_weights(weights_path)\n",
        "\n",
        "model.load_weights(weights_path, by_name=True, exclude=[\n",
        "            \"mrcnn_class_logits\", \"mrcnn_bbox_fc\",\n",
        "            \"mrcnn_bbox\", \"mrcnn_mask\"])\n",
        "\n",
        "train(model, epochs = 100, lr = 0.0001)"
      ]
    },
    {
      "cell_type": "code",
      "source": [
        "# Inspect the model in training or inference modes values: 'inference' or 'training'\n",
        "TEST_MODE = \"inference\"\n",
        "ROOT_DIR = \"/content/sample_data/Mask_RCNN/dataset\"\n",
        "\n",
        "def get_ax(rows=1, cols=1, size=16):\n",
        "    _, ax = plt.subplots(rows, cols, figsize=(size*cols, size*rows))\n",
        "    return ax\n",
        "\n",
        "\n",
        "\n",
        "# Load validation dataset\n",
        "# Must call before using the dataset\n",
        "CUSTOM_DIR = \"/content/sample_data/Mask_RCNN/dataset\"\n",
        "dataset = CustomDataset()\n",
        "dataset.load_custom(CUSTOM_DIR, \"val\")\n",
        "dataset.prepare()\n",
        "print(\"Images: {}\\nClasses: {}\".format(len(dataset.image_ids), dataset.class_names))"
      ],
      "metadata": {
        "id": "Sx5Ix92Fecce"
      },
      "execution_count": null,
      "outputs": []
    },
    {
      "cell_type": "code",
      "source": [
        "new_model = modellib.MaskRCNN(mode=\"inference\", config=config, model_dir=DEFAULT_LOGS_DIR)\n",
        "# weight_path = glob(\"/content/sample_data/Mask_RCNN/logs/**/*0099.h5\")[0]\n",
        "weight_path = \"/content/sample_data/Mask_RCNN/mask_rcnn_coco.h5\"\n",
        "new_model.load_weights(weight_path, by_name=True, exclude=[\"mrcnn_class_logits\", \"mrcnn_bbox_fc\",\"mrcnn_bbox\", \"mrcnn_mask\"])\n",
        "# new_mode =  new_model.load_weights(\"/content/sample_data/Mask_RCNN/logs/object20220709T0405/mask_rcnn_object_0099.h5\")"
      ],
      "metadata": {
        "id": "_3PcFX2ldrh2",
        "colab": {
          "base_uri": "https://localhost:8080/"
        },
        "outputId": "24b42795-761e-416f-b4c7-485530c8e605"
      },
      "execution_count": 67,
      "outputs": [
        {
          "output_type": "stream",
          "name": "stdout",
          "text": [
            "WARNING:tensorflow:From /content/sample_data/Mask_RCNN/mrcnn/model.py:772: to_float (from tensorflow.python.ops.math_ops) is deprecated and will be removed in a future version.\n",
            "Instructions for updating:\n",
            "Use tf.cast instead.\n"
          ]
        }
      ]
    },
    {
      "cell_type": "code",
      "source": [
        "import matplotlib.image as mpimg\n",
        "image1 = mpimg.imread(\"/content/sample_data/Mask_RCNN/dataset/train/slice_0008_276_276_1.63_1.63.png\")\n",
        "plt.imshow(image1)"
      ],
      "metadata": {
        "id": "IPckujfGVwz3"
      },
      "execution_count": null,
      "outputs": []
    },
    {
      "cell_type": "code",
      "source": [
        "results1 = new_model.detect([image1[:,:,:3]], verbose=1)"
      ],
      "metadata": {
        "id": "tkiKsxlhZc9H",
        "colab": {
          "base_uri": "https://localhost:8080/"
        },
        "outputId": "cc20bb2a-15f5-4cc0-840f-893e046be759"
      },
      "execution_count": 69,
      "outputs": [
        {
          "output_type": "stream",
          "name": "stdout",
          "text": [
            "Processing 1 images\n",
            "image                    shape: (276, 276, 3)         min:    0.00392  max:    0.99216  float32\n",
            "molded_images            shape: (1, 1024, 1024, 3)    min: -123.70000  max: -103.34314  float64\n",
            "image_metas              shape: (1, 16)               min:    0.00000  max: 1024.00000  float64\n",
            "anchors                  shape: (1, 261888, 4)        min:   -0.35390  max:    1.29134  float32\n"
          ]
        }
      ]
    },
    {
      "cell_type": "code",
      "source": [
        "results1[0]"
      ],
      "metadata": {
        "id": "YAipFYRzfwqo",
        "colab": {
          "base_uri": "https://localhost:8080/"
        },
        "outputId": "3541bb9d-90ca-4e73-8fd7-4aa12dbd7511"
      },
      "execution_count": 70,
      "outputs": [
        {
          "output_type": "execute_result",
          "data": {
            "text/plain": [
              "{'class_ids': array([], dtype=int32),\n",
              " 'masks': array([], shape=(276, 276, 0), dtype=float64),\n",
              " 'rois': array([], shape=(0, 4), dtype=int32),\n",
              " 'scores': array([], dtype=float32)}"
            ]
          },
          "metadata": {},
          "execution_count": 70
        }
      ]
    },
    {
      "cell_type": "code",
      "source": [
        "ax = get_ax(1)\n",
        "r1 = results1[0]\n",
        "visualize.display_instances(image1, r1['rois'], r1['masks'], r1['class_ids'],\n",
        "dataset.class_names, r1['scores'], ax=ax, title=\"Predictions1\")"
      ],
      "metadata": {
        "id": "Oaxz4uLxZdB5",
        "colab": {
          "base_uri": "https://localhost:8080/",
          "height": 1000
        },
        "outputId": "5ac7fc81-5650-4fd1-c0d1-e2f7a059c42d"
      },
      "execution_count": 71,
      "outputs": [
        {
          "metadata": {
            "tags": null
          },
          "name": "stdout",
          "output_type": "stream",
          "text": [
            "\n",
            "*** No instances to display *** \n",
            "\n"
          ]
        },
        {
          "data": {
            "image/png": "[encoded data removed]",
            "text/plain": [
              "<Figure size 1152x1152 with 1 Axes>"
            ]
          },
          "metadata": {},
          "output_type": "display_data"
        },
        {
          "output_type": "stream",
          "name": "stdout",
          "text": [
            "\n",
            "*** No instances to display *** \n",
            "\n"
          ]
        },
        {
          "output_type": "display_data",
          "data": {
            "text/plain": [
              "<Figure size 1152x1152 with 1 Axes>"
            ],
            "image/png": "[encoded data removed]"
          },
          "metadata": {
            "needs_background": "light"
          }
        }
      ]
    },
    {
      "cell_type": "code",
      "source": [
        ""
      ],
      "metadata": {
        "id": "0JkHawtLZdF_"
      },
      "execution_count": null,
      "outputs": []
    },
    {
      "cell_type": "code",
      "source": [
        ""
      ],
      "metadata": {
        "id": "45I0CXmgtogW"
      },
      "execution_count": null,
      "outputs": []
    }
  ]
}